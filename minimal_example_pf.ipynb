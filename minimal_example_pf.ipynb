{
 "cells": [
  {
   "cell_type": "markdown",
   "metadata": {},
   "source": [
    "# Minimal three node network\n",
    "\n",
    "Here, we are going to create a network with three nodes, three lines and one generator. We then solve the non-linear power flow using a Newton-Raphson.  "
   ]
  },
  {
   "cell_type": "code",
   "execution_count": 1,
   "metadata": {},
   "outputs": [],
   "source": [
    "import pypsa\n",
    "import numpy as np"
   ]
  },
  {
   "cell_type": "code",
   "execution_count": 2,
   "metadata": {},
   "outputs": [],
   "source": [
    "network = pypsa.Network()"
   ]
  },
  {
   "cell_type": "markdown",
   "metadata": {},
   "source": [
    "Add three buses"
   ]
  },
  {
   "cell_type": "code",
   "execution_count": 3,
   "metadata": {},
   "outputs": [
    {
     "data": {
      "text/html": [
       "<div>\n",
       "<style scoped>\n",
       "    .dataframe tbody tr th:only-of-type {\n",
       "        vertical-align: middle;\n",
       "    }\n",
       "\n",
       "    .dataframe tbody tr th {\n",
       "        vertical-align: top;\n",
       "    }\n",
       "\n",
       "    .dataframe thead th {\n",
       "        text-align: right;\n",
       "    }\n",
       "</style>\n",
       "<table border=\"1\" class=\"dataframe\">\n",
       "  <thead>\n",
       "    <tr style=\"text-align: right;\">\n",
       "      <th>attribute</th>\n",
       "      <th>v_nom</th>\n",
       "      <th>type</th>\n",
       "      <th>x</th>\n",
       "      <th>y</th>\n",
       "      <th>carrier</th>\n",
       "      <th>unit</th>\n",
       "      <th>v_mag_pu_set</th>\n",
       "      <th>v_mag_pu_min</th>\n",
       "      <th>v_mag_pu_max</th>\n",
       "      <th>control</th>\n",
       "      <th>generator</th>\n",
       "      <th>sub_network</th>\n",
       "    </tr>\n",
       "    <tr>\n",
       "      <th>Bus</th>\n",
       "      <th></th>\n",
       "      <th></th>\n",
       "      <th></th>\n",
       "      <th></th>\n",
       "      <th></th>\n",
       "      <th></th>\n",
       "      <th></th>\n",
       "      <th></th>\n",
       "      <th></th>\n",
       "      <th></th>\n",
       "      <th></th>\n",
       "      <th></th>\n",
       "    </tr>\n",
       "  </thead>\n",
       "  <tbody>\n",
       "    <tr>\n",
       "      <th>Bus 0</th>\n",
       "      <td>220.0</td>\n",
       "      <td></td>\n",
       "      <td>0.0</td>\n",
       "      <td>0.0</td>\n",
       "      <td>AC</td>\n",
       "      <td></td>\n",
       "      <td>1.0</td>\n",
       "      <td>0.0</td>\n",
       "      <td>inf</td>\n",
       "      <td>PQ</td>\n",
       "      <td></td>\n",
       "      <td></td>\n",
       "    </tr>\n",
       "    <tr>\n",
       "      <th>Bus 1</th>\n",
       "      <td>220.0</td>\n",
       "      <td></td>\n",
       "      <td>0.0</td>\n",
       "      <td>0.0</td>\n",
       "      <td>AC</td>\n",
       "      <td></td>\n",
       "      <td>1.0</td>\n",
       "      <td>0.0</td>\n",
       "      <td>inf</td>\n",
       "      <td>PQ</td>\n",
       "      <td></td>\n",
       "      <td></td>\n",
       "    </tr>\n",
       "    <tr>\n",
       "      <th>Bus 2</th>\n",
       "      <td>220.0</td>\n",
       "      <td></td>\n",
       "      <td>0.0</td>\n",
       "      <td>0.0</td>\n",
       "      <td>AC</td>\n",
       "      <td></td>\n",
       "      <td>1.0</td>\n",
       "      <td>0.0</td>\n",
       "      <td>inf</td>\n",
       "      <td>PQ</td>\n",
       "      <td></td>\n",
       "      <td></td>\n",
       "    </tr>\n",
       "    <tr>\n",
       "      <th>Bus 3</th>\n",
       "      <td>220.0</td>\n",
       "      <td></td>\n",
       "      <td>0.0</td>\n",
       "      <td>0.0</td>\n",
       "      <td>AC</td>\n",
       "      <td></td>\n",
       "      <td>1.0</td>\n",
       "      <td>0.0</td>\n",
       "      <td>inf</td>\n",
       "      <td>PQ</td>\n",
       "      <td></td>\n",
       "      <td></td>\n",
       "    </tr>\n",
       "    <tr>\n",
       "      <th>Bus 4</th>\n",
       "      <td>220.0</td>\n",
       "      <td></td>\n",
       "      <td>0.0</td>\n",
       "      <td>0.0</td>\n",
       "      <td>AC</td>\n",
       "      <td></td>\n",
       "      <td>1.0</td>\n",
       "      <td>0.0</td>\n",
       "      <td>inf</td>\n",
       "      <td>PQ</td>\n",
       "      <td></td>\n",
       "      <td></td>\n",
       "    </tr>\n",
       "  </tbody>\n",
       "</table>\n",
       "</div>"
      ],
      "text/plain": [
       "attribute  v_nom type    x    y carrier unit  v_mag_pu_set  v_mag_pu_min  \\\n",
       "Bus                                                                        \n",
       "Bus 0      220.0       0.0  0.0      AC                1.0           0.0   \n",
       "Bus 1      220.0       0.0  0.0      AC                1.0           0.0   \n",
       "Bus 2      220.0       0.0  0.0      AC                1.0           0.0   \n",
       "Bus 3      220.0       0.0  0.0      AC                1.0           0.0   \n",
       "Bus 4      220.0       0.0  0.0      AC                1.0           0.0   \n",
       "\n",
       "attribute  v_mag_pu_max control generator sub_network  \n",
       "Bus                                                    \n",
       "Bus 0               inf      PQ                        \n",
       "Bus 1               inf      PQ                        \n",
       "Bus 2               inf      PQ                        \n",
       "Bus 3               inf      PQ                        \n",
       "Bus 4               inf      PQ                        "
      ]
     },
     "execution_count": 3,
     "metadata": {},
     "output_type": "execute_result"
    }
   ],
   "source": [
    "n_buses = 5\n",
    "\n",
    "for i in range(n_buses):\n",
    "    network.add(\"Bus\", \"Bus {}\".format(i), v_nom=220.0)\n",
    "\n",
    "network.buses"
   ]
  },
  {
   "cell_type": "markdown",
   "metadata": {},
   "source": [
    "加入三根导线"
   ]
  },
  {
   "cell_type": "code",
   "execution_count": 4,
   "metadata": {},
   "outputs": [],
   "source": [
    "# A --> 1\n",
    "network.add(\n",
    "    \"Line\",\n",
    "    \"Line 1\",\n",
    "    bus0 = \"Bus 0\",\n",
    "    bus1 = \"Bus 1\",\n",
    "    r = 10.63,\n",
    "    x = 14.75,\n",
    ")\n",
    "# A --> S\n",
    "network.add(\n",
    "    \"Line\",\n",
    "    \"Line 2\",\n",
    "    bus0 = \"Bus 0\",\n",
    "    bus1 = \"Bus 2\",\n",
    "    r = 5.2,\n",
    "    x = 16.32,\n",
    ")\n",
    "# A --> 2\n",
    "network.add(\n",
    "    \"Line\",\n",
    "    \"Line 3\",\n",
    "    bus0 = \"Bus 0\",\n",
    "    bus1 = \"Bus 3\",\n",
    "    r = 11.22,\n",
    "    x = 19.47,\n",
    ")\n",
    "# A --> 3\n",
    "network.add(\n",
    "    \"Line\",\n",
    "    \"Line 4\",\n",
    "    bus0 = \"Bus 0\",\n",
    "    bus1 = \"Bus 4\",\n",
    "    r = 10.16,\n",
    "    x = 17.48,\n",
    ")"
   ]
  },
  {
   "cell_type": "markdown",
   "metadata": {},
   "source": [
    "Add three lines in a ring"
   ]
  },
  {
   "cell_type": "code",
   "execution_count": 5,
   "metadata": {},
   "outputs": [
    {
     "data": {
      "text/html": [
       "<div>\n",
       "<style scoped>\n",
       "    .dataframe tbody tr th:only-of-type {\n",
       "        vertical-align: middle;\n",
       "    }\n",
       "\n",
       "    .dataframe tbody tr th {\n",
       "        vertical-align: top;\n",
       "    }\n",
       "\n",
       "    .dataframe thead th {\n",
       "        text-align: right;\n",
       "    }\n",
       "</style>\n",
       "<table border=\"1\" class=\"dataframe\">\n",
       "  <thead>\n",
       "    <tr style=\"text-align: right;\">\n",
       "      <th>attribute</th>\n",
       "      <th>bus0</th>\n",
       "      <th>bus1</th>\n",
       "      <th>type</th>\n",
       "      <th>x</th>\n",
       "      <th>r</th>\n",
       "      <th>g</th>\n",
       "      <th>b</th>\n",
       "      <th>s_nom</th>\n",
       "      <th>s_nom_mod</th>\n",
       "      <th>s_nom_extendable</th>\n",
       "      <th>...</th>\n",
       "      <th>v_ang_max</th>\n",
       "      <th>sub_network</th>\n",
       "      <th>x_pu</th>\n",
       "      <th>r_pu</th>\n",
       "      <th>g_pu</th>\n",
       "      <th>b_pu</th>\n",
       "      <th>x_pu_eff</th>\n",
       "      <th>r_pu_eff</th>\n",
       "      <th>s_nom_opt</th>\n",
       "      <th>n_mod</th>\n",
       "    </tr>\n",
       "    <tr>\n",
       "      <th>Line</th>\n",
       "      <th></th>\n",
       "      <th></th>\n",
       "      <th></th>\n",
       "      <th></th>\n",
       "      <th></th>\n",
       "      <th></th>\n",
       "      <th></th>\n",
       "      <th></th>\n",
       "      <th></th>\n",
       "      <th></th>\n",
       "      <th></th>\n",
       "      <th></th>\n",
       "      <th></th>\n",
       "      <th></th>\n",
       "      <th></th>\n",
       "      <th></th>\n",
       "      <th></th>\n",
       "      <th></th>\n",
       "      <th></th>\n",
       "      <th></th>\n",
       "      <th></th>\n",
       "    </tr>\n",
       "  </thead>\n",
       "  <tbody>\n",
       "    <tr>\n",
       "      <th>Line 1</th>\n",
       "      <td>Bus 0</td>\n",
       "      <td>Bus 1</td>\n",
       "      <td></td>\n",
       "      <td>14.75</td>\n",
       "      <td>10.63</td>\n",
       "      <td>0.0</td>\n",
       "      <td>0.0</td>\n",
       "      <td>0.0</td>\n",
       "      <td>0.0</td>\n",
       "      <td>False</td>\n",
       "      <td>...</td>\n",
       "      <td>inf</td>\n",
       "      <td></td>\n",
       "      <td>0.0</td>\n",
       "      <td>0.0</td>\n",
       "      <td>0.0</td>\n",
       "      <td>0.0</td>\n",
       "      <td>0.0</td>\n",
       "      <td>0.0</td>\n",
       "      <td>0.0</td>\n",
       "      <td>0</td>\n",
       "    </tr>\n",
       "    <tr>\n",
       "      <th>Line 2</th>\n",
       "      <td>Bus 0</td>\n",
       "      <td>Bus 2</td>\n",
       "      <td></td>\n",
       "      <td>16.32</td>\n",
       "      <td>5.20</td>\n",
       "      <td>0.0</td>\n",
       "      <td>0.0</td>\n",
       "      <td>0.0</td>\n",
       "      <td>0.0</td>\n",
       "      <td>False</td>\n",
       "      <td>...</td>\n",
       "      <td>inf</td>\n",
       "      <td></td>\n",
       "      <td>0.0</td>\n",
       "      <td>0.0</td>\n",
       "      <td>0.0</td>\n",
       "      <td>0.0</td>\n",
       "      <td>0.0</td>\n",
       "      <td>0.0</td>\n",
       "      <td>0.0</td>\n",
       "      <td>0</td>\n",
       "    </tr>\n",
       "    <tr>\n",
       "      <th>Line 3</th>\n",
       "      <td>Bus 0</td>\n",
       "      <td>Bus 3</td>\n",
       "      <td></td>\n",
       "      <td>19.47</td>\n",
       "      <td>11.22</td>\n",
       "      <td>0.0</td>\n",
       "      <td>0.0</td>\n",
       "      <td>0.0</td>\n",
       "      <td>0.0</td>\n",
       "      <td>False</td>\n",
       "      <td>...</td>\n",
       "      <td>inf</td>\n",
       "      <td></td>\n",
       "      <td>0.0</td>\n",
       "      <td>0.0</td>\n",
       "      <td>0.0</td>\n",
       "      <td>0.0</td>\n",
       "      <td>0.0</td>\n",
       "      <td>0.0</td>\n",
       "      <td>0.0</td>\n",
       "      <td>0</td>\n",
       "    </tr>\n",
       "    <tr>\n",
       "      <th>Line 4</th>\n",
       "      <td>Bus 0</td>\n",
       "      <td>Bus 4</td>\n",
       "      <td></td>\n",
       "      <td>17.48</td>\n",
       "      <td>10.16</td>\n",
       "      <td>0.0</td>\n",
       "      <td>0.0</td>\n",
       "      <td>0.0</td>\n",
       "      <td>0.0</td>\n",
       "      <td>False</td>\n",
       "      <td>...</td>\n",
       "      <td>inf</td>\n",
       "      <td></td>\n",
       "      <td>0.0</td>\n",
       "      <td>0.0</td>\n",
       "      <td>0.0</td>\n",
       "      <td>0.0</td>\n",
       "      <td>0.0</td>\n",
       "      <td>0.0</td>\n",
       "      <td>0.0</td>\n",
       "      <td>0</td>\n",
       "    </tr>\n",
       "  </tbody>\n",
       "</table>\n",
       "<p>4 rows × 31 columns</p>\n",
       "</div>"
      ],
      "text/plain": [
       "attribute   bus0   bus1 type      x      r    g    b  s_nom  s_nom_mod  \\\n",
       "Line                                                                     \n",
       "Line 1     Bus 0  Bus 1       14.75  10.63  0.0  0.0    0.0        0.0   \n",
       "Line 2     Bus 0  Bus 2       16.32   5.20  0.0  0.0    0.0        0.0   \n",
       "Line 3     Bus 0  Bus 3       19.47  11.22  0.0  0.0    0.0        0.0   \n",
       "Line 4     Bus 0  Bus 4       17.48  10.16  0.0  0.0    0.0        0.0   \n",
       "\n",
       "attribute  s_nom_extendable  ...  v_ang_max  sub_network  x_pu  r_pu  g_pu  \\\n",
       "Line                         ...                                             \n",
       "Line 1                False  ...        inf                0.0   0.0   0.0   \n",
       "Line 2                False  ...        inf                0.0   0.0   0.0   \n",
       "Line 3                False  ...        inf                0.0   0.0   0.0   \n",
       "Line 4                False  ...        inf                0.0   0.0   0.0   \n",
       "\n",
       "attribute  b_pu  x_pu_eff r_pu_eff  s_nom_opt  n_mod  \n",
       "Line                                                  \n",
       "Line 1      0.0       0.0      0.0        0.0      0  \n",
       "Line 2      0.0       0.0      0.0        0.0      0  \n",
       "Line 3      0.0       0.0      0.0        0.0      0  \n",
       "Line 4      0.0       0.0      0.0        0.0      0  \n",
       "\n",
       "[4 rows x 31 columns]"
      ]
     },
     "execution_count": 5,
     "metadata": {},
     "output_type": "execute_result"
    }
   ],
   "source": [
    "'''\n",
    "for i in range(n_buses):\n",
    "    network.add(\n",
    "        \"Line\",\n",
    "        \"My line {}\".format(i),\n",
    "        bus0=\"My bus {}\".format(i),\n",
    "        bus1=\"My bus {}\".format((i + 1) % n_buses),\n",
    "        x=0.1,\n",
    "        r=0.01,\n",
    "    )\n",
    "'''\n",
    "network.lines"
   ]
  },
  {
   "cell_type": "markdown",
   "metadata": {},
   "source": [
    "Add a generator at bus 0"
   ]
  },
  {
   "cell_type": "code",
   "execution_count": 6,
   "metadata": {},
   "outputs": [],
   "source": [
    "'''\n",
    "network.add(\"Generator\", \"My gen\", bus=\"My bus 0\", p_set=300, control=\"PQ\")\n",
    "\n",
    "network.generators\n",
    "'''\n",
    "network.add(\"Generator\", \"发电厂\", bus = \"Bus 0\", p_set = 600, q_set= 261.53, control=\"PQ\")"
   ]
  },
  {
   "cell_type": "code",
   "execution_count": 7,
   "metadata": {},
   "outputs": [
    {
     "data": {
      "text/plain": [
       "Generator\n",
       "发电厂    600.0\n",
       "Name: p_set, dtype: float64"
      ]
     },
     "execution_count": 7,
     "metadata": {},
     "output_type": "execute_result"
    }
   ],
   "source": [
    "network.generators.p_set"
   ]
  },
  {
   "cell_type": "markdown",
   "metadata": {},
   "source": [
    "Add a load at bus 1"
   ]
  },
  {
   "cell_type": "code",
   "execution_count": 8,
   "metadata": {},
   "outputs": [
    {
     "data": {
      "text/html": [
       "<div>\n",
       "<style scoped>\n",
       "    .dataframe tbody tr th:only-of-type {\n",
       "        vertical-align: middle;\n",
       "    }\n",
       "\n",
       "    .dataframe tbody tr th {\n",
       "        vertical-align: top;\n",
       "    }\n",
       "\n",
       "    .dataframe thead th {\n",
       "        text-align: right;\n",
       "    }\n",
       "</style>\n",
       "<table border=\"1\" class=\"dataframe\">\n",
       "  <thead>\n",
       "    <tr style=\"text-align: right;\">\n",
       "      <th>attribute</th>\n",
       "      <th>bus</th>\n",
       "      <th>carrier</th>\n",
       "      <th>type</th>\n",
       "      <th>p_set</th>\n",
       "      <th>q_set</th>\n",
       "      <th>sign</th>\n",
       "    </tr>\n",
       "    <tr>\n",
       "      <th>Load</th>\n",
       "      <th></th>\n",
       "      <th></th>\n",
       "      <th></th>\n",
       "      <th></th>\n",
       "      <th></th>\n",
       "      <th></th>\n",
       "    </tr>\n",
       "  </thead>\n",
       "  <tbody>\n",
       "    <tr>\n",
       "      <th>Load A1</th>\n",
       "      <td>Bus 1</td>\n",
       "      <td></td>\n",
       "      <td></td>\n",
       "      <td>89.0</td>\n",
       "      <td>37.81</td>\n",
       "      <td>-1.0</td>\n",
       "    </tr>\n",
       "    <tr>\n",
       "      <th>Load AS</th>\n",
       "      <td>Bus 2</td>\n",
       "      <td></td>\n",
       "      <td></td>\n",
       "      <td>229.0</td>\n",
       "      <td>103.50</td>\n",
       "      <td>-1.0</td>\n",
       "    </tr>\n",
       "    <tr>\n",
       "      <th>Load A2</th>\n",
       "      <td>Bus 3</td>\n",
       "      <td></td>\n",
       "      <td></td>\n",
       "      <td>150.0</td>\n",
       "      <td>63.89</td>\n",
       "      <td>-1.0</td>\n",
       "    </tr>\n",
       "    <tr>\n",
       "      <th>Load A3</th>\n",
       "      <td>Bus 4</td>\n",
       "      <td></td>\n",
       "      <td></td>\n",
       "      <td>132.0</td>\n",
       "      <td>56.23</td>\n",
       "      <td>-1.0</td>\n",
       "    </tr>\n",
       "  </tbody>\n",
       "</table>\n",
       "</div>"
      ],
      "text/plain": [
       "attribute    bus carrier type  p_set   q_set  sign\n",
       "Load                                              \n",
       "Load A1    Bus 1                89.0   37.81  -1.0\n",
       "Load AS    Bus 2               229.0  103.50  -1.0\n",
       "Load A2    Bus 3               150.0   63.89  -1.0\n",
       "Load A3    Bus 4               132.0   56.23  -1.0"
      ]
     },
     "execution_count": 8,
     "metadata": {},
     "output_type": "execute_result"
    }
   ],
   "source": [
    "'''\n",
    "network.add(\"Load\", \"My load\", bus=\"My bus 1\", p_set=100)\n",
    "'''\n",
    "network.add(\"Load\", \"Load A1\", bus=\"Bus 1\", p_set=89, q_set=37.81)\n",
    "network.add(\"Load\", \"Load AS\", bus=\"Bus 2\", p_set=229, q_set=103.5)\n",
    "network.add(\"Load\", \"Load A2\", bus=\"Bus 3\", p_set=150, q_set=63.89)\n",
    "network.add(\"Load\", \"Load A3\", bus=\"Bus 4\", p_set=132, q_set=56.23)\n",
    "network.loads"
   ]
  },
  {
   "cell_type": "code",
   "execution_count": 9,
   "metadata": {},
   "outputs": [
    {
     "data": {
      "text/plain": [
       "Load\n",
       "Load A1     89.0\n",
       "Load AS    229.0\n",
       "Load A2    150.0\n",
       "Load A3    132.0\n",
       "Name: p_set, dtype: float64"
      ]
     },
     "execution_count": 9,
     "metadata": {},
     "output_type": "execute_result"
    }
   ],
   "source": [
    "network.loads.p_set"
   ]
  },
  {
   "cell_type": "markdown",
   "metadata": {},
   "source": [
    "Fix the reactive power of the load"
   ]
  },
  {
   "cell_type": "code",
   "execution_count": 10,
   "metadata": {},
   "outputs": [],
   "source": [
    "# network.loads.q_set = 100.0"
   ]
  },
  {
   "cell_type": "markdown",
   "metadata": {},
   "source": [
    "Do a Newton-Raphson power flow"
   ]
  },
  {
   "cell_type": "code",
   "execution_count": 11,
   "metadata": {},
   "outputs": [
    {
     "name": "stderr",
     "output_type": "stream",
     "text": [
      "INFO:pypsa.pf:Performing non-linear load-flow on AC sub-network SubNetwork 0 for snapshots Index(['now'], dtype='object', name='snapshot')\n",
      "INFO:pypsa.pf:Newton-Raphson solved in 4 iterations with error of 0.000000 in 0.217447 seconds\n"
     ]
    },
    {
     "data": {
      "text/plain": [
       "{'n_iter': SubNetwork  0\n",
       " snapshot     \n",
       " now         4,\n",
       " 'error': SubNetwork             0\n",
       " snapshot                \n",
       " now         4.547474e-13,\n",
       " 'converged': SubNetwork     0\n",
       " snapshot        \n",
       " now         True}"
      ]
     },
     "execution_count": 11,
     "metadata": {},
     "output_type": "execute_result"
    }
   ],
   "source": [
    "network.pf()"
   ]
  },
  {
   "cell_type": "markdown",
   "metadata": {},
   "source": [
    "Alright, it converged! Now, what is the active power flow on the lines?"
   ]
  },
  {
   "cell_type": "code",
   "execution_count": 12,
   "metadata": {},
   "outputs": [
    {
     "data": {
      "text/html": [
       "<div>\n",
       "<style scoped>\n",
       "    .dataframe tbody tr th:only-of-type {\n",
       "        vertical-align: middle;\n",
       "    }\n",
       "\n",
       "    .dataframe tbody tr th {\n",
       "        vertical-align: top;\n",
       "    }\n",
       "\n",
       "    .dataframe thead th {\n",
       "        text-align: right;\n",
       "    }\n",
       "</style>\n",
       "<table border=\"1\" class=\"dataframe\">\n",
       "  <thead>\n",
       "    <tr style=\"text-align: right;\">\n",
       "      <th></th>\n",
       "      <th>Line 1</th>\n",
       "      <th>Line 2</th>\n",
       "      <th>Line 3</th>\n",
       "      <th>Line 4</th>\n",
       "    </tr>\n",
       "    <tr>\n",
       "      <th>snapshot</th>\n",
       "      <th></th>\n",
       "      <th></th>\n",
       "      <th></th>\n",
       "      <th></th>\n",
       "    </tr>\n",
       "  </thead>\n",
       "  <tbody>\n",
       "    <tr>\n",
       "      <th>now</th>\n",
       "      <td>91.193016</td>\n",
       "      <td>236.781711</td>\n",
       "      <td>157.06279</td>\n",
       "      <td>136.801601</td>\n",
       "    </tr>\n",
       "  </tbody>\n",
       "</table>\n",
       "</div>"
      ],
      "text/plain": [
       "             Line 1      Line 2     Line 3      Line 4\n",
       "snapshot                                              \n",
       "now       91.193016  236.781711  157.06279  136.801601"
      ]
     },
     "execution_count": 12,
     "metadata": {},
     "output_type": "execute_result"
    }
   ],
   "source": [
    "network.lines_t.p0"
   ]
  },
  {
   "cell_type": "markdown",
   "metadata": {},
   "source": [
    "...and what are the voltage angles on the buses?"
   ]
  },
  {
   "cell_type": "code",
   "execution_count": 13,
   "metadata": {},
   "outputs": [
    {
     "data": {
      "text/html": [
       "<div>\n",
       "<style scoped>\n",
       "    .dataframe tbody tr th:only-of-type {\n",
       "        vertical-align: middle;\n",
       "    }\n",
       "\n",
       "    .dataframe tbody tr th {\n",
       "        vertical-align: top;\n",
       "    }\n",
       "\n",
       "    .dataframe thead th {\n",
       "        text-align: right;\n",
       "    }\n",
       "</style>\n",
       "<table border=\"1\" class=\"dataframe\">\n",
       "  <thead>\n",
       "    <tr style=\"text-align: right;\">\n",
       "      <th>Bus</th>\n",
       "      <th>Bus 0</th>\n",
       "      <th>Bus 1</th>\n",
       "      <th>Bus 2</th>\n",
       "      <th>Bus 3</th>\n",
       "      <th>Bus 4</th>\n",
       "    </tr>\n",
       "    <tr>\n",
       "      <th>snapshot</th>\n",
       "      <th></th>\n",
       "      <th></th>\n",
       "      <th></th>\n",
       "      <th></th>\n",
       "      <th></th>\n",
       "    </tr>\n",
       "  </thead>\n",
       "  <tbody>\n",
       "    <tr>\n",
       "      <th>now</th>\n",
       "      <td>0.0</td>\n",
       "      <td>-1.114292</td>\n",
       "      <td>-4.059069</td>\n",
       "      <td>-2.79392</td>\n",
       "      <td>-2.166862</td>\n",
       "    </tr>\n",
       "  </tbody>\n",
       "</table>\n",
       "</div>"
      ],
      "text/plain": [
       "Bus       Bus 0     Bus 1     Bus 2    Bus 3     Bus 4\n",
       "snapshot                                              \n",
       "now         0.0 -1.114292 -4.059069 -2.79392 -2.166862"
      ]
     },
     "execution_count": 13,
     "metadata": {},
     "output_type": "execute_result"
    }
   ],
   "source": [
    "network.buses_t.v_ang * 180 / np.pi"
   ]
  },
  {
   "cell_type": "markdown",
   "metadata": {},
   "source": [
    "...and their mangitudes?"
   ]
  },
  {
   "cell_type": "code",
   "execution_count": 14,
   "metadata": {},
   "outputs": [
    {
     "data": {
      "text/html": [
       "<div>\n",
       "<style scoped>\n",
       "    .dataframe tbody tr th:only-of-type {\n",
       "        vertical-align: middle;\n",
       "    }\n",
       "\n",
       "    .dataframe tbody tr th {\n",
       "        vertical-align: top;\n",
       "    }\n",
       "\n",
       "    .dataframe thead th {\n",
       "        text-align: right;\n",
       "    }\n",
       "</style>\n",
       "<table border=\"1\" class=\"dataframe\">\n",
       "  <thead>\n",
       "    <tr style=\"text-align: right;\">\n",
       "      <th>Bus</th>\n",
       "      <th>Bus 0</th>\n",
       "      <th>Bus 1</th>\n",
       "      <th>Bus 2</th>\n",
       "      <th>Bus 3</th>\n",
       "      <th>Bus 4</th>\n",
       "    </tr>\n",
       "    <tr>\n",
       "      <th>snapshot</th>\n",
       "      <th></th>\n",
       "      <th></th>\n",
       "      <th></th>\n",
       "      <th></th>\n",
       "      <th></th>\n",
       "    </tr>\n",
       "  </thead>\n",
       "  <tbody>\n",
       "    <tr>\n",
       "      <th>now</th>\n",
       "      <td>1.0</td>\n",
       "      <td>0.967704</td>\n",
       "      <td>0.933769</td>\n",
       "      <td>0.934069</td>\n",
       "      <td>0.94867</td>\n",
       "    </tr>\n",
       "  </tbody>\n",
       "</table>\n",
       "</div>"
      ],
      "text/plain": [
       "Bus       Bus 0     Bus 1     Bus 2     Bus 3    Bus 4\n",
       "snapshot                                              \n",
       "now         1.0  0.967704  0.933769  0.934069  0.94867"
      ]
     },
     "execution_count": 14,
     "metadata": {},
     "output_type": "execute_result"
    }
   ],
   "source": [
    "network.buses_t.v_mag_pu"
   ]
  },
  {
   "cell_type": "code",
   "execution_count": 18,
   "metadata": {},
   "outputs": [
    {
     "data": {
      "text/html": [
       "<div>\n",
       "<style scoped>\n",
       "    .dataframe tbody tr th:only-of-type {\n",
       "        vertical-align: middle;\n",
       "    }\n",
       "\n",
       "    .dataframe tbody tr th {\n",
       "        vertical-align: top;\n",
       "    }\n",
       "\n",
       "    .dataframe thead th {\n",
       "        text-align: right;\n",
       "    }\n",
       "</style>\n",
       "<table border=\"1\" class=\"dataframe\">\n",
       "  <thead>\n",
       "    <tr style=\"text-align: right;\">\n",
       "      <th></th>\n",
       "      <th>Line 1</th>\n",
       "      <th>Line 2</th>\n",
       "      <th>Line 3</th>\n",
       "      <th>Line 4</th>\n",
       "    </tr>\n",
       "    <tr>\n",
       "      <th>snapshot</th>\n",
       "      <th></th>\n",
       "      <th></th>\n",
       "      <th></th>\n",
       "      <th></th>\n",
       "    </tr>\n",
       "  </thead>\n",
       "  <tbody>\n",
       "    <tr>\n",
       "      <th>now</th>\n",
       "      <td>-37.81</td>\n",
       "      <td>-103.5</td>\n",
       "      <td>-63.89</td>\n",
       "      <td>-56.23</td>\n",
       "    </tr>\n",
       "  </tbody>\n",
       "</table>\n",
       "</div>"
      ],
      "text/plain": [
       "          Line 1  Line 2  Line 3  Line 4\n",
       "snapshot                                \n",
       "now       -37.81  -103.5  -63.89  -56.23"
      ]
     },
     "execution_count": 18,
     "metadata": {},
     "output_type": "execute_result"
    }
   ],
   "source": [
    "network.lines_t.q1"
   ]
  },
  {
   "cell_type": "code",
   "execution_count": 19,
   "metadata": {},
   "outputs": [
    {
     "data": {
      "text/html": [
       "<div>\n",
       "<style scoped>\n",
       "    .dataframe tbody tr th:only-of-type {\n",
       "        vertical-align: middle;\n",
       "    }\n",
       "\n",
       "    .dataframe tbody tr th {\n",
       "        vertical-align: top;\n",
       "    }\n",
       "\n",
       "    .dataframe thead th {\n",
       "        text-align: right;\n",
       "    }\n",
       "</style>\n",
       "<table border=\"1\" class=\"dataframe\">\n",
       "  <thead>\n",
       "    <tr style=\"text-align: right;\">\n",
       "      <th></th>\n",
       "      <th>Line 1</th>\n",
       "      <th>Line 2</th>\n",
       "      <th>Line 3</th>\n",
       "      <th>Line 4</th>\n",
       "    </tr>\n",
       "    <tr>\n",
       "      <th>snapshot</th>\n",
       "      <th></th>\n",
       "      <th></th>\n",
       "      <th></th>\n",
       "      <th></th>\n",
       "    </tr>\n",
       "  </thead>\n",
       "  <tbody>\n",
       "    <tr>\n",
       "      <th>now</th>\n",
       "      <td>-89.0</td>\n",
       "      <td>-229.0</td>\n",
       "      <td>-150.0</td>\n",
       "      <td>-132.0</td>\n",
       "    </tr>\n",
       "  </tbody>\n",
       "</table>\n",
       "</div>"
      ],
      "text/plain": [
       "          Line 1  Line 2  Line 3  Line 4\n",
       "snapshot                                \n",
       "now        -89.0  -229.0  -150.0  -132.0"
      ]
     },
     "execution_count": 19,
     "metadata": {},
     "output_type": "execute_result"
    }
   ],
   "source": [
    "network.lines_t.p1"
   ]
  },
  {
   "cell_type": "code",
   "execution_count": 21,
   "metadata": {},
   "outputs": [
    {
     "data": {
      "text/html": [
       "<div>\n",
       "<style scoped>\n",
       "    .dataframe tbody tr th:only-of-type {\n",
       "        vertical-align: middle;\n",
       "    }\n",
       "\n",
       "    .dataframe tbody tr th {\n",
       "        vertical-align: top;\n",
       "    }\n",
       "\n",
       "    .dataframe thead th {\n",
       "        text-align: right;\n",
       "    }\n",
       "</style>\n",
       "<table border=\"1\" class=\"dataframe\">\n",
       "  <thead>\n",
       "    <tr style=\"text-align: right;\">\n",
       "      <th></th>\n",
       "      <th>Line 1</th>\n",
       "      <th>Line 2</th>\n",
       "      <th>Line 3</th>\n",
       "      <th>Line 4</th>\n",
       "    </tr>\n",
       "    <tr>\n",
       "      <th>snapshot</th>\n",
       "      <th></th>\n",
       "      <th></th>\n",
       "      <th></th>\n",
       "      <th></th>\n",
       "    </tr>\n",
       "  </thead>\n",
       "  <tbody>\n",
       "    <tr>\n",
       "      <th>now</th>\n",
       "      <td>91.193016</td>\n",
       "      <td>236.781711</td>\n",
       "      <td>157.06279</td>\n",
       "      <td>136.801601</td>\n",
       "    </tr>\n",
       "  </tbody>\n",
       "</table>\n",
       "</div>"
      ],
      "text/plain": [
       "             Line 1      Line 2     Line 3      Line 4\n",
       "snapshot                                              \n",
       "now       91.193016  236.781711  157.06279  136.801601"
      ]
     },
     "execution_count": 21,
     "metadata": {},
     "output_type": "execute_result"
    }
   ],
   "source": [
    "network.lines_t.p0"
   ]
  },
  {
   "cell_type": "code",
   "execution_count": 20,
   "metadata": {},
   "outputs": [
    {
     "data": {
      "text/html": [
       "<div>\n",
       "<style scoped>\n",
       "    .dataframe tbody tr th:only-of-type {\n",
       "        vertical-align: middle;\n",
       "    }\n",
       "\n",
       "    .dataframe tbody tr th {\n",
       "        vertical-align: top;\n",
       "    }\n",
       "\n",
       "    .dataframe thead th {\n",
       "        text-align: right;\n",
       "    }\n",
       "</style>\n",
       "<table border=\"1\" class=\"dataframe\">\n",
       "  <thead>\n",
       "    <tr style=\"text-align: right;\">\n",
       "      <th></th>\n",
       "      <th>Line 1</th>\n",
       "      <th>Line 2</th>\n",
       "      <th>Line 3</th>\n",
       "      <th>Line 4</th>\n",
       "    </tr>\n",
       "    <tr>\n",
       "      <th>snapshot</th>\n",
       "      <th></th>\n",
       "      <th></th>\n",
       "      <th></th>\n",
       "      <th></th>\n",
       "    </tr>\n",
       "  </thead>\n",
       "  <tbody>\n",
       "    <tr>\n",
       "      <th>now</th>\n",
       "      <td>40.85299</td>\n",
       "      <td>127.9226</td>\n",
       "      <td>76.146017</td>\n",
       "      <td>64.491023</td>\n",
       "    </tr>\n",
       "  </tbody>\n",
       "</table>\n",
       "</div>"
      ],
      "text/plain": [
       "            Line 1    Line 2     Line 3     Line 4\n",
       "snapshot                                          \n",
       "now       40.85299  127.9226  76.146017  64.491023"
      ]
     },
     "execution_count": 20,
     "metadata": {},
     "output_type": "execute_result"
    }
   ],
   "source": [
    "network.lines_t.q0"
   ]
  }
 ],
 "metadata": {
  "@webio": {
   "lastCommId": null,
   "lastKernelId": null
  },
  "kernelspec": {
   "display_name": "Python 3",
   "language": "python",
   "name": "python3"
  },
  "language_info": {
   "codemirror_mode": {
    "name": "ipython",
    "version": 3
   },
   "file_extension": ".py",
   "mimetype": "text/x-python",
   "name": "python",
   "nbconvert_exporter": "python",
   "pygments_lexer": "ipython3",
   "version": "3.11.6"
  }
 },
 "nbformat": 4,
 "nbformat_minor": 1
}
